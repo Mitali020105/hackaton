{
 "cells": [
  {
   "cell_type": "code",
   "execution_count": 1,
   "id": "930c6e24-13ad-47bc-b728-d02b34f23112",
   "metadata": {},
   "outputs": [],
   "source": [
    "import numpy as np\n",
    "import pandas as pd\n",
    "from sklearn.preprocessing import StandardScaler, OneHotEncoder\n",
    "from sklearn.compose import ColumnTransformer\n",
    "from sklearn.pipeline import Pipeline\n",
    "from sklearn.multioutput import MultiOutputClassifier\n",
    "from sklearn.impute import SimpleImputer\n",
    "from sklearn.linear_model import LogisticRegression"
   ]
  },
  {
   "cell_type": "code",
   "execution_count": 4,
   "id": "259bb326-5eee-409d-a429-5cecb7fbd77f",
   "metadata": {},
   "outputs": [],
   "source": [
    "\n",
    "submission_format = pd.read_csv(r'C:\\Users\\OWNER\\Downloads\\dataset and all\\submission_format.csv')\n",
    "X_train = pd.read_csv(r'C:\\Users\\OWNER\\Downloads\\dataset and all\\training_set_features.csv')\n",
    "y_train = pd.read_csv(r'C:\\Users\\OWNER\\Downloads\\dataset and all\\training_set_labels.csv')\n",
    "X_test = pd.read_csv(r'C:\\Users\\OWNER\\Downloads\\dataset and all\\test_set_features.csv')"
   ]
  },
  {
   "cell_type": "code",
   "execution_count": 5,
   "id": "2db6e75b-3f7a-4874-8ae5-3d94864b19c3",
   "metadata": {},
   "outputs": [],
   "source": [
    "train_data = X_train.merge(y_train, on='respondent_id')"
   ]
  },
  {
   "cell_type": "code",
   "execution_count": 6,
   "id": "8335efdc-51df-40ac-9145-7d82ce3655a5",
   "metadata": {},
   "outputs": [],
   "source": [
    "\n",
    "X_train = train_data.drop(columns=['respondent_id', 'xyz_vaccine', 'seasonal_vaccine'])\n",
    "y_train = train_data[['xyz_vaccine', 'seasonal_vaccine']]\n",
    "X_test = X_test.drop(columns=['respondent_id'])"
   ]
  },
  {
   "cell_type": "code",
   "execution_count": 7,
   "id": "f675273d-d78a-4bac-aefd-45a86ec72fbe",
   "metadata": {},
   "outputs": [],
   "source": [
    "# Identify categorical and numerical columns\n",
    "categorical_cols = X_train.select_dtypes(include=['object']).columns.tolist()\n",
    "numerical_cols = X_train.select_dtypes(include=['int64', 'float64']).columns.tolist()"
   ]
  },
  {
   "cell_type": "code",
   "execution_count": 8,
   "id": "47444feb-70d0-48ee-b033-a2838decdb68",
   "metadata": {},
   "outputs": [],
   "source": [
    "# Define preprocessors for numerical and categorical data\n",
    "numerical_transformer = Pipeline(steps=[\n",
    "    ('imputer', SimpleImputer(strategy='mean')),  # Impute missing values with mean\n",
    "    ('scaler', StandardScaler())                  # Scale numerical features\n",
    "])\n",
    "\n",
    "categorical_transformer = Pipeline(steps=[\n",
    "    ('imputer', SimpleImputer(strategy='most_frequent')),  # Impute missing values with most frequent\n",
    "    ('onehot', OneHotEncoder(handle_unknown='ignore'))     # One-hot encode categorical features\n",
    "])\n",
    "\n",
    "preprocessor = ColumnTransformer(\n",
    "    transformers=[\n",
    "        ('num', numerical_transformer, numerical_cols),\n",
    "        ('cat', categorical_transformer, categorical_cols)\n",
    "    ])\n"
   ]
  },
  {
   "cell_type": "code",
   "execution_count": 9,
   "id": "d6b49068-f4e9-4a18-9d8c-672548644fd0",
   "metadata": {},
   "outputs": [],
   "source": [
    "clf = Pipeline(steps=[\n",
    "    ('preprocessor', preprocessor),\n",
    "    ('classifier', MultiOutputClassifier(LogisticRegression(max_iter=10000, random_state=2)))\n",
    "])\n",
    "\n",
    "# Fit the model\n",
    "clf.fit(X_train, y_train)\n",
    "\n",
    "# Predict probabilities for the test set\n",
    "y_pred = clf.predict_proba(X_test)\n",
    "\n",
    "# Prepare the submission file\n",
    "submission = submission_format.copy()\n",
    "submission['xyz_vaccine'] = y_pred[0][:, 1]\n",
    "submission['seasonal_vaccine'] = y_pred[1][:, 1]\n",
    "\n",
    "\n",
    "submission.to_csv('project_output.csv', index=False)\n",
    "\n"
   ]
  },
  {
   "cell_type": "code",
   "execution_count": null,
   "id": "23e24d14-a903-45ea-b047-ec08547cd36d",
   "metadata": {},
   "outputs": [],
   "source": []
  },
  {
   "cell_type": "code",
   "execution_count": null,
   "id": "099eecb3-7d79-435b-b429-f637099c047e",
   "metadata": {},
   "outputs": [],
   "source": []
  },
  {
   "cell_type": "code",
   "execution_count": null,
   "id": "b8ef6b87-289b-4d3f-bb40-289f3c1158ba",
   "metadata": {},
   "outputs": [],
   "source": []
  }
 ],
 "metadata": {
  "kernelspec": {
   "display_name": "conda_env",
   "language": "python",
   "name": "conda_env"
  },
  "language_info": {
   "codemirror_mode": {
    "name": "ipython",
    "version": 3
   },
   "file_extension": ".py",
   "mimetype": "text/x-python",
   "name": "python",
   "nbconvert_exporter": "python",
   "pygments_lexer": "ipython3",
   "version": "3.12.3"
  }
 },
 "nbformat": 4,
 "nbformat_minor": 5
}
